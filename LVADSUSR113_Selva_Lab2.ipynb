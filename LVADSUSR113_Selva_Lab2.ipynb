{
  "nbformat": 4,
  "nbformat_minor": 0,
  "metadata": {
    "colab": {
      "provenance": []
    },
    "kernelspec": {
      "name": "python3",
      "display_name": "Python 3"
    },
    "language_info": {
      "name": "python"
    }
  },
  "cells": [
    {
      "cell_type": "code",
      "execution_count": 31,
      "metadata": {
        "id": "WFExZqt78Gc0"
      },
      "outputs": [],
      "source": [
        "import pandas as pd\n",
        "\n",
        "book_data = pd.read_csv(\"/content/booking.csv\")"
      ]
    },
    {
      "cell_type": "code",
      "source": [
        "book_data.info()"
      ],
      "metadata": {
        "colab": {
          "base_uri": "https://localhost:8080/"
        },
        "id": "fQK288FC8zfw",
        "outputId": "fc631935-c40f-422f-8198-848c69a8ac54"
      },
      "execution_count": 32,
      "outputs": [
        {
          "output_type": "stream",
          "name": "stdout",
          "text": [
            "<class 'pandas.core.frame.DataFrame'>\n",
            "RangeIndex: 36285 entries, 0 to 36284\n",
            "Data columns (total 17 columns):\n",
            " #   Column                    Non-Null Count  Dtype  \n",
            "---  ------                    --------------  -----  \n",
            " 0   Booking_ID                36285 non-null  object \n",
            " 1   number of adults          36285 non-null  int64  \n",
            " 2   number of children        36285 non-null  int64  \n",
            " 3   number of weekend nights  36285 non-null  int64  \n",
            " 4   number of week nights     36285 non-null  int64  \n",
            " 5   type of meal              36285 non-null  object \n",
            " 6   car parking space         36285 non-null  int64  \n",
            " 7   room type                 36285 non-null  object \n",
            " 8   lead time                 36285 non-null  int64  \n",
            " 9   market segment type       36285 non-null  object \n",
            " 10  repeated                  36285 non-null  int64  \n",
            " 11  P-C                       36285 non-null  int64  \n",
            " 12  P-not-C                   36285 non-null  int64  \n",
            " 13  average price             36285 non-null  float64\n",
            " 14  special requests          36285 non-null  int64  \n",
            " 15  date of reservation       36285 non-null  object \n",
            " 16  booking status            36285 non-null  object \n",
            "dtypes: float64(1), int64(10), object(6)\n",
            "memory usage: 4.7+ MB\n"
          ]
        }
      ]
    },
    {
      "cell_type": "code",
      "source": [
        "book_data.head()"
      ],
      "metadata": {
        "colab": {
          "base_uri": "https://localhost:8080/",
          "height": 365
        },
        "id": "T_0Py_Pq9vOw",
        "outputId": "2f079784-a15c-4a5f-b3df-8104609d24e4"
      },
      "execution_count": 33,
      "outputs": [
        {
          "output_type": "execute_result",
          "data": {
            "text/plain": [
              "  Booking_ID  number of adults  number of children  number of weekend nights  \\\n",
              "0   INN00001                 1                   1                         2   \n",
              "1   INN00002                 1                   0                         1   \n",
              "2   INN00003                 2                   1                         1   \n",
              "3   INN00004                 1                   0                         0   \n",
              "4   INN00005                 1                   0                         1   \n",
              "\n",
              "   number of week nights  type of meal  car parking space    room type  \\\n",
              "0                      5   Meal Plan 1                  0  Room_Type 1   \n",
              "1                      3  Not Selected                  0  Room_Type 1   \n",
              "2                      3   Meal Plan 1                  0  Room_Type 1   \n",
              "3                      2   Meal Plan 1                  0  Room_Type 1   \n",
              "4                      2  Not Selected                  0  Room_Type 1   \n",
              "\n",
              "   lead time market segment type  repeated  P-C  P-not-C  average price  \\\n",
              "0        224             Offline         0    0        0          88.00   \n",
              "1          5              Online         0    0        0         106.68   \n",
              "2          1              Online         0    0        0          50.00   \n",
              "3        211              Online         0    0        0         100.00   \n",
              "4         48              Online         0    0        0          77.00   \n",
              "\n",
              "   special requests date of reservation booking status  \n",
              "0                 0           10/2/2015   Not_Canceled  \n",
              "1                 1           11/6/2018   Not_Canceled  \n",
              "2                 0           2/28/2018       Canceled  \n",
              "3                 1           5/20/2017       Canceled  \n",
              "4                 0           4/11/2018       Canceled  "
            ],
            "text/html": [
              "\n",
              "  <div id=\"df-f77ede8f-e561-47df-8285-ba6b25e7e8b9\" class=\"colab-df-container\">\n",
              "    <div>\n",
              "<style scoped>\n",
              "    .dataframe tbody tr th:only-of-type {\n",
              "        vertical-align: middle;\n",
              "    }\n",
              "\n",
              "    .dataframe tbody tr th {\n",
              "        vertical-align: top;\n",
              "    }\n",
              "\n",
              "    .dataframe thead th {\n",
              "        text-align: right;\n",
              "    }\n",
              "</style>\n",
              "<table border=\"1\" class=\"dataframe\">\n",
              "  <thead>\n",
              "    <tr style=\"text-align: right;\">\n",
              "      <th></th>\n",
              "      <th>Booking_ID</th>\n",
              "      <th>number of adults</th>\n",
              "      <th>number of children</th>\n",
              "      <th>number of weekend nights</th>\n",
              "      <th>number of week nights</th>\n",
              "      <th>type of meal</th>\n",
              "      <th>car parking space</th>\n",
              "      <th>room type</th>\n",
              "      <th>lead time</th>\n",
              "      <th>market segment type</th>\n",
              "      <th>repeated</th>\n",
              "      <th>P-C</th>\n",
              "      <th>P-not-C</th>\n",
              "      <th>average price</th>\n",
              "      <th>special requests</th>\n",
              "      <th>date of reservation</th>\n",
              "      <th>booking status</th>\n",
              "    </tr>\n",
              "  </thead>\n",
              "  <tbody>\n",
              "    <tr>\n",
              "      <th>0</th>\n",
              "      <td>INN00001</td>\n",
              "      <td>1</td>\n",
              "      <td>1</td>\n",
              "      <td>2</td>\n",
              "      <td>5</td>\n",
              "      <td>Meal Plan 1</td>\n",
              "      <td>0</td>\n",
              "      <td>Room_Type 1</td>\n",
              "      <td>224</td>\n",
              "      <td>Offline</td>\n",
              "      <td>0</td>\n",
              "      <td>0</td>\n",
              "      <td>0</td>\n",
              "      <td>88.00</td>\n",
              "      <td>0</td>\n",
              "      <td>10/2/2015</td>\n",
              "      <td>Not_Canceled</td>\n",
              "    </tr>\n",
              "    <tr>\n",
              "      <th>1</th>\n",
              "      <td>INN00002</td>\n",
              "      <td>1</td>\n",
              "      <td>0</td>\n",
              "      <td>1</td>\n",
              "      <td>3</td>\n",
              "      <td>Not Selected</td>\n",
              "      <td>0</td>\n",
              "      <td>Room_Type 1</td>\n",
              "      <td>5</td>\n",
              "      <td>Online</td>\n",
              "      <td>0</td>\n",
              "      <td>0</td>\n",
              "      <td>0</td>\n",
              "      <td>106.68</td>\n",
              "      <td>1</td>\n",
              "      <td>11/6/2018</td>\n",
              "      <td>Not_Canceled</td>\n",
              "    </tr>\n",
              "    <tr>\n",
              "      <th>2</th>\n",
              "      <td>INN00003</td>\n",
              "      <td>2</td>\n",
              "      <td>1</td>\n",
              "      <td>1</td>\n",
              "      <td>3</td>\n",
              "      <td>Meal Plan 1</td>\n",
              "      <td>0</td>\n",
              "      <td>Room_Type 1</td>\n",
              "      <td>1</td>\n",
              "      <td>Online</td>\n",
              "      <td>0</td>\n",
              "      <td>0</td>\n",
              "      <td>0</td>\n",
              "      <td>50.00</td>\n",
              "      <td>0</td>\n",
              "      <td>2/28/2018</td>\n",
              "      <td>Canceled</td>\n",
              "    </tr>\n",
              "    <tr>\n",
              "      <th>3</th>\n",
              "      <td>INN00004</td>\n",
              "      <td>1</td>\n",
              "      <td>0</td>\n",
              "      <td>0</td>\n",
              "      <td>2</td>\n",
              "      <td>Meal Plan 1</td>\n",
              "      <td>0</td>\n",
              "      <td>Room_Type 1</td>\n",
              "      <td>211</td>\n",
              "      <td>Online</td>\n",
              "      <td>0</td>\n",
              "      <td>0</td>\n",
              "      <td>0</td>\n",
              "      <td>100.00</td>\n",
              "      <td>1</td>\n",
              "      <td>5/20/2017</td>\n",
              "      <td>Canceled</td>\n",
              "    </tr>\n",
              "    <tr>\n",
              "      <th>4</th>\n",
              "      <td>INN00005</td>\n",
              "      <td>1</td>\n",
              "      <td>0</td>\n",
              "      <td>1</td>\n",
              "      <td>2</td>\n",
              "      <td>Not Selected</td>\n",
              "      <td>0</td>\n",
              "      <td>Room_Type 1</td>\n",
              "      <td>48</td>\n",
              "      <td>Online</td>\n",
              "      <td>0</td>\n",
              "      <td>0</td>\n",
              "      <td>0</td>\n",
              "      <td>77.00</td>\n",
              "      <td>0</td>\n",
              "      <td>4/11/2018</td>\n",
              "      <td>Canceled</td>\n",
              "    </tr>\n",
              "  </tbody>\n",
              "</table>\n",
              "</div>\n",
              "    <div class=\"colab-df-buttons\">\n",
              "\n",
              "  <div class=\"colab-df-container\">\n",
              "    <button class=\"colab-df-convert\" onclick=\"convertToInteractive('df-f77ede8f-e561-47df-8285-ba6b25e7e8b9')\"\n",
              "            title=\"Convert this dataframe to an interactive table.\"\n",
              "            style=\"display:none;\">\n",
              "\n",
              "  <svg xmlns=\"http://www.w3.org/2000/svg\" height=\"24px\" viewBox=\"0 -960 960 960\">\n",
              "    <path d=\"M120-120v-720h720v720H120Zm60-500h600v-160H180v160Zm220 220h160v-160H400v160Zm0 220h160v-160H400v160ZM180-400h160v-160H180v160Zm440 0h160v-160H620v160ZM180-180h160v-160H180v160Zm440 0h160v-160H620v160Z\"/>\n",
              "  </svg>\n",
              "    </button>\n",
              "\n",
              "  <style>\n",
              "    .colab-df-container {\n",
              "      display:flex;\n",
              "      gap: 12px;\n",
              "    }\n",
              "\n",
              "    .colab-df-convert {\n",
              "      background-color: #E8F0FE;\n",
              "      border: none;\n",
              "      border-radius: 50%;\n",
              "      cursor: pointer;\n",
              "      display: none;\n",
              "      fill: #1967D2;\n",
              "      height: 32px;\n",
              "      padding: 0 0 0 0;\n",
              "      width: 32px;\n",
              "    }\n",
              "\n",
              "    .colab-df-convert:hover {\n",
              "      background-color: #E2EBFA;\n",
              "      box-shadow: 0px 1px 2px rgba(60, 64, 67, 0.3), 0px 1px 3px 1px rgba(60, 64, 67, 0.15);\n",
              "      fill: #174EA6;\n",
              "    }\n",
              "\n",
              "    .colab-df-buttons div {\n",
              "      margin-bottom: 4px;\n",
              "    }\n",
              "\n",
              "    [theme=dark] .colab-df-convert {\n",
              "      background-color: #3B4455;\n",
              "      fill: #D2E3FC;\n",
              "    }\n",
              "\n",
              "    [theme=dark] .colab-df-convert:hover {\n",
              "      background-color: #434B5C;\n",
              "      box-shadow: 0px 1px 3px 1px rgba(0, 0, 0, 0.15);\n",
              "      filter: drop-shadow(0px 1px 2px rgba(0, 0, 0, 0.3));\n",
              "      fill: #FFFFFF;\n",
              "    }\n",
              "  </style>\n",
              "\n",
              "    <script>\n",
              "      const buttonEl =\n",
              "        document.querySelector('#df-f77ede8f-e561-47df-8285-ba6b25e7e8b9 button.colab-df-convert');\n",
              "      buttonEl.style.display =\n",
              "        google.colab.kernel.accessAllowed ? 'block' : 'none';\n",
              "\n",
              "      async function convertToInteractive(key) {\n",
              "        const element = document.querySelector('#df-f77ede8f-e561-47df-8285-ba6b25e7e8b9');\n",
              "        const dataTable =\n",
              "          await google.colab.kernel.invokeFunction('convertToInteractive',\n",
              "                                                    [key], {});\n",
              "        if (!dataTable) return;\n",
              "\n",
              "        const docLinkHtml = 'Like what you see? Visit the ' +\n",
              "          '<a target=\"_blank\" href=https://colab.research.google.com/notebooks/data_table.ipynb>data table notebook</a>'\n",
              "          + ' to learn more about interactive tables.';\n",
              "        element.innerHTML = '';\n",
              "        dataTable['output_type'] = 'display_data';\n",
              "        await google.colab.output.renderOutput(dataTable, element);\n",
              "        const docLink = document.createElement('div');\n",
              "        docLink.innerHTML = docLinkHtml;\n",
              "        element.appendChild(docLink);\n",
              "      }\n",
              "    </script>\n",
              "  </div>\n",
              "\n",
              "\n",
              "<div id=\"df-ed1ae0eb-2443-433a-9ff8-a5bbaa3debeb\">\n",
              "  <button class=\"colab-df-quickchart\" onclick=\"quickchart('df-ed1ae0eb-2443-433a-9ff8-a5bbaa3debeb')\"\n",
              "            title=\"Suggest charts\"\n",
              "            style=\"display:none;\">\n",
              "\n",
              "<svg xmlns=\"http://www.w3.org/2000/svg\" height=\"24px\"viewBox=\"0 0 24 24\"\n",
              "     width=\"24px\">\n",
              "    <g>\n",
              "        <path d=\"M19 3H5c-1.1 0-2 .9-2 2v14c0 1.1.9 2 2 2h14c1.1 0 2-.9 2-2V5c0-1.1-.9-2-2-2zM9 17H7v-7h2v7zm4 0h-2V7h2v10zm4 0h-2v-4h2v4z\"/>\n",
              "    </g>\n",
              "</svg>\n",
              "  </button>\n",
              "\n",
              "<style>\n",
              "  .colab-df-quickchart {\n",
              "      --bg-color: #E8F0FE;\n",
              "      --fill-color: #1967D2;\n",
              "      --hover-bg-color: #E2EBFA;\n",
              "      --hover-fill-color: #174EA6;\n",
              "      --disabled-fill-color: #AAA;\n",
              "      --disabled-bg-color: #DDD;\n",
              "  }\n",
              "\n",
              "  [theme=dark] .colab-df-quickchart {\n",
              "      --bg-color: #3B4455;\n",
              "      --fill-color: #D2E3FC;\n",
              "      --hover-bg-color: #434B5C;\n",
              "      --hover-fill-color: #FFFFFF;\n",
              "      --disabled-bg-color: #3B4455;\n",
              "      --disabled-fill-color: #666;\n",
              "  }\n",
              "\n",
              "  .colab-df-quickchart {\n",
              "    background-color: var(--bg-color);\n",
              "    border: none;\n",
              "    border-radius: 50%;\n",
              "    cursor: pointer;\n",
              "    display: none;\n",
              "    fill: var(--fill-color);\n",
              "    height: 32px;\n",
              "    padding: 0;\n",
              "    width: 32px;\n",
              "  }\n",
              "\n",
              "  .colab-df-quickchart:hover {\n",
              "    background-color: var(--hover-bg-color);\n",
              "    box-shadow: 0 1px 2px rgba(60, 64, 67, 0.3), 0 1px 3px 1px rgba(60, 64, 67, 0.15);\n",
              "    fill: var(--button-hover-fill-color);\n",
              "  }\n",
              "\n",
              "  .colab-df-quickchart-complete:disabled,\n",
              "  .colab-df-quickchart-complete:disabled:hover {\n",
              "    background-color: var(--disabled-bg-color);\n",
              "    fill: var(--disabled-fill-color);\n",
              "    box-shadow: none;\n",
              "  }\n",
              "\n",
              "  .colab-df-spinner {\n",
              "    border: 2px solid var(--fill-color);\n",
              "    border-color: transparent;\n",
              "    border-bottom-color: var(--fill-color);\n",
              "    animation:\n",
              "      spin 1s steps(1) infinite;\n",
              "  }\n",
              "\n",
              "  @keyframes spin {\n",
              "    0% {\n",
              "      border-color: transparent;\n",
              "      border-bottom-color: var(--fill-color);\n",
              "      border-left-color: var(--fill-color);\n",
              "    }\n",
              "    20% {\n",
              "      border-color: transparent;\n",
              "      border-left-color: var(--fill-color);\n",
              "      border-top-color: var(--fill-color);\n",
              "    }\n",
              "    30% {\n",
              "      border-color: transparent;\n",
              "      border-left-color: var(--fill-color);\n",
              "      border-top-color: var(--fill-color);\n",
              "      border-right-color: var(--fill-color);\n",
              "    }\n",
              "    40% {\n",
              "      border-color: transparent;\n",
              "      border-right-color: var(--fill-color);\n",
              "      border-top-color: var(--fill-color);\n",
              "    }\n",
              "    60% {\n",
              "      border-color: transparent;\n",
              "      border-right-color: var(--fill-color);\n",
              "    }\n",
              "    80% {\n",
              "      border-color: transparent;\n",
              "      border-right-color: var(--fill-color);\n",
              "      border-bottom-color: var(--fill-color);\n",
              "    }\n",
              "    90% {\n",
              "      border-color: transparent;\n",
              "      border-bottom-color: var(--fill-color);\n",
              "    }\n",
              "  }\n",
              "</style>\n",
              "\n",
              "  <script>\n",
              "    async function quickchart(key) {\n",
              "      const quickchartButtonEl =\n",
              "        document.querySelector('#' + key + ' button');\n",
              "      quickchartButtonEl.disabled = true;  // To prevent multiple clicks.\n",
              "      quickchartButtonEl.classList.add('colab-df-spinner');\n",
              "      try {\n",
              "        const charts = await google.colab.kernel.invokeFunction(\n",
              "            'suggestCharts', [key], {});\n",
              "      } catch (error) {\n",
              "        console.error('Error during call to suggestCharts:', error);\n",
              "      }\n",
              "      quickchartButtonEl.classList.remove('colab-df-spinner');\n",
              "      quickchartButtonEl.classList.add('colab-df-quickchart-complete');\n",
              "    }\n",
              "    (() => {\n",
              "      let quickchartButtonEl =\n",
              "        document.querySelector('#df-ed1ae0eb-2443-433a-9ff8-a5bbaa3debeb button');\n",
              "      quickchartButtonEl.style.display =\n",
              "        google.colab.kernel.accessAllowed ? 'block' : 'none';\n",
              "    })();\n",
              "  </script>\n",
              "</div>\n",
              "    </div>\n",
              "  </div>\n"
            ],
            "application/vnd.google.colaboratory.intrinsic+json": {
              "type": "dataframe",
              "variable_name": "book_data",
              "summary": "{\n  \"name\": \"book_data\",\n  \"rows\": 36285,\n  \"fields\": [\n    {\n      \"column\": \"Booking_ID\",\n      \"properties\": {\n        \"dtype\": \"string\",\n        \"num_unique_values\": 36285,\n        \"samples\": [\n          \"INN36239\",\n          \"INN00084\",\n          \"INN23450\"\n        ],\n        \"semantic_type\": \"\",\n        \"description\": \"\"\n      }\n    },\n    {\n      \"column\": \"number of adults\",\n      \"properties\": {\n        \"dtype\": \"number\",\n        \"std\": 0,\n        \"min\": 0,\n        \"max\": 4,\n        \"num_unique_values\": 5,\n        \"samples\": [\n          2,\n          4,\n          3\n        ],\n        \"semantic_type\": \"\",\n        \"description\": \"\"\n      }\n    },\n    {\n      \"column\": \"number of children\",\n      \"properties\": {\n        \"dtype\": \"number\",\n        \"std\": 0,\n        \"min\": 0,\n        \"max\": 10,\n        \"num_unique_values\": 6,\n        \"samples\": [\n          1,\n          0,\n          9\n        ],\n        \"semantic_type\": \"\",\n        \"description\": \"\"\n      }\n    },\n    {\n      \"column\": \"number of weekend nights\",\n      \"properties\": {\n        \"dtype\": \"number\",\n        \"std\": 0,\n        \"min\": 0,\n        \"max\": 7,\n        \"num_unique_values\": 8,\n        \"samples\": [\n          1,\n          6,\n          2\n        ],\n        \"semantic_type\": \"\",\n        \"description\": \"\"\n      }\n    },\n    {\n      \"column\": \"number of week nights\",\n      \"properties\": {\n        \"dtype\": \"number\",\n        \"std\": 1,\n        \"min\": 0,\n        \"max\": 17,\n        \"num_unique_values\": 18,\n        \"samples\": [\n          5,\n          3,\n          11\n        ],\n        \"semantic_type\": \"\",\n        \"description\": \"\"\n      }\n    },\n    {\n      \"column\": \"type of meal\",\n      \"properties\": {\n        \"dtype\": \"category\",\n        \"num_unique_values\": 4,\n        \"samples\": [\n          \"Not Selected\",\n          \"Meal Plan 3\",\n          \"Meal Plan 1\"\n        ],\n        \"semantic_type\": \"\",\n        \"description\": \"\"\n      }\n    },\n    {\n      \"column\": \"car parking space\",\n      \"properties\": {\n        \"dtype\": \"number\",\n        \"std\": 0,\n        \"min\": 0,\n        \"max\": 1,\n        \"num_unique_values\": 2,\n        \"samples\": [\n          1,\n          0\n        ],\n        \"semantic_type\": \"\",\n        \"description\": \"\"\n      }\n    },\n    {\n      \"column\": \"room type\",\n      \"properties\": {\n        \"dtype\": \"category\",\n        \"num_unique_values\": 7,\n        \"samples\": [\n          \"Room_Type 1\",\n          \"Room_Type 4\"\n        ],\n        \"semantic_type\": \"\",\n        \"description\": \"\"\n      }\n    },\n    {\n      \"column\": \"lead time\",\n      \"properties\": {\n        \"dtype\": \"number\",\n        \"std\": 85,\n        \"min\": 0,\n        \"max\": 443,\n        \"num_unique_values\": 352,\n        \"samples\": [\n          176,\n          81\n        ],\n        \"semantic_type\": \"\",\n        \"description\": \"\"\n      }\n    },\n    {\n      \"column\": \"market segment type\",\n      \"properties\": {\n        \"dtype\": \"category\",\n        \"num_unique_values\": 5,\n        \"samples\": [\n          \"Online\",\n          \"Complementary\"\n        ],\n        \"semantic_type\": \"\",\n        \"description\": \"\"\n      }\n    },\n    {\n      \"column\": \"repeated\",\n      \"properties\": {\n        \"dtype\": \"number\",\n        \"std\": 0,\n        \"min\": 0,\n        \"max\": 1,\n        \"num_unique_values\": 2,\n        \"samples\": [\n          1,\n          0\n        ],\n        \"semantic_type\": \"\",\n        \"description\": \"\"\n      }\n    },\n    {\n      \"column\": \"P-C\",\n      \"properties\": {\n        \"dtype\": \"number\",\n        \"std\": 0,\n        \"min\": 0,\n        \"max\": 13,\n        \"num_unique_values\": 9,\n        \"samples\": [\n          13,\n          3\n        ],\n        \"semantic_type\": \"\",\n        \"description\": \"\"\n      }\n    },\n    {\n      \"column\": \"P-not-C\",\n      \"properties\": {\n        \"dtype\": \"number\",\n        \"std\": 1,\n        \"min\": 0,\n        \"max\": 58,\n        \"num_unique_values\": 59,\n        \"samples\": [\n          0,\n          12\n        ],\n        \"semantic_type\": \"\",\n        \"description\": \"\"\n      }\n    },\n    {\n      \"column\": \"average price\",\n      \"properties\": {\n        \"dtype\": \"number\",\n        \"std\": 35.086469412766704,\n        \"min\": 0.0,\n        \"max\": 540.0,\n        \"num_unique_values\": 3930,\n        \"samples\": [\n          198.68,\n          170.63\n        ],\n        \"semantic_type\": \"\",\n        \"description\": \"\"\n      }\n    },\n    {\n      \"column\": \"special requests\",\n      \"properties\": {\n        \"dtype\": \"number\",\n        \"std\": 0,\n        \"min\": 0,\n        \"max\": 5,\n        \"num_unique_values\": 6,\n        \"samples\": [\n          0,\n          1\n        ],\n        \"semantic_type\": \"\",\n        \"description\": \"\"\n      }\n    },\n    {\n      \"column\": \"date of reservation\",\n      \"properties\": {\n        \"dtype\": \"category\",\n        \"num_unique_values\": 553,\n        \"samples\": [\n          \"7/3/2017\",\n          \"3/18/2018\"\n        ],\n        \"semantic_type\": \"\",\n        \"description\": \"\"\n      }\n    },\n    {\n      \"column\": \"booking status\",\n      \"properties\": {\n        \"dtype\": \"category\",\n        \"num_unique_values\": 2,\n        \"samples\": [\n          \"Canceled\",\n          \"Not_Canceled\"\n        ],\n        \"semantic_type\": \"\",\n        \"description\": \"\"\n      }\n    }\n  ]\n}"
            }
          },
          "metadata": {},
          "execution_count": 33
        }
      ]
    },
    {
      "cell_type": "code",
      "source": [
        "book_data.describe()"
      ],
      "metadata": {
        "colab": {
          "base_uri": "https://localhost:8080/",
          "height": 355
        },
        "id": "hb7GDnqN83Dn",
        "outputId": "6db15e8b-e91a-4539-a93d-5783d5d0e44c"
      },
      "execution_count": 34,
      "outputs": [
        {
          "output_type": "execute_result",
          "data": {
            "text/plain": [
              "       number of adults  number of children  number of weekend nights  \\\n",
              "count      36285.000000        36285.000000              36285.000000   \n",
              "mean           1.844839            0.105360                  0.810693   \n",
              "std            0.518813            0.402704                  0.870590   \n",
              "min            0.000000            0.000000                  0.000000   \n",
              "25%            2.000000            0.000000                  0.000000   \n",
              "50%            2.000000            0.000000                  1.000000   \n",
              "75%            2.000000            0.000000                  2.000000   \n",
              "max            4.000000           10.000000                  7.000000   \n",
              "\n",
              "       number of week nights  car parking space     lead time      repeated  \\\n",
              "count           36285.000000       36285.000000  36285.000000  36285.000000   \n",
              "mean                2.204602           0.030977     85.239851      0.025630   \n",
              "std                 1.410946           0.173258     85.938796      0.158032   \n",
              "min                 0.000000           0.000000      0.000000      0.000000   \n",
              "25%                 1.000000           0.000000     17.000000      0.000000   \n",
              "50%                 2.000000           0.000000     57.000000      0.000000   \n",
              "75%                 3.000000           0.000000    126.000000      0.000000   \n",
              "max                17.000000           1.000000    443.000000      1.000000   \n",
              "\n",
              "                P-C       P-not-C  average price  special requests  \n",
              "count  36285.000000  36285.000000   36285.000000      36285.000000  \n",
              "mean       0.023343      0.153369     103.421636          0.619733  \n",
              "std        0.368281      1.753931      35.086469          0.786262  \n",
              "min        0.000000      0.000000       0.000000          0.000000  \n",
              "25%        0.000000      0.000000      80.300000          0.000000  \n",
              "50%        0.000000      0.000000      99.450000          0.000000  \n",
              "75%        0.000000      0.000000     120.000000          1.000000  \n",
              "max       13.000000     58.000000     540.000000          5.000000  "
            ],
            "text/html": [
              "\n",
              "  <div id=\"df-d1246c90-aa25-460e-8678-f4f386c41dc8\" class=\"colab-df-container\">\n",
              "    <div>\n",
              "<style scoped>\n",
              "    .dataframe tbody tr th:only-of-type {\n",
              "        vertical-align: middle;\n",
              "    }\n",
              "\n",
              "    .dataframe tbody tr th {\n",
              "        vertical-align: top;\n",
              "    }\n",
              "\n",
              "    .dataframe thead th {\n",
              "        text-align: right;\n",
              "    }\n",
              "</style>\n",
              "<table border=\"1\" class=\"dataframe\">\n",
              "  <thead>\n",
              "    <tr style=\"text-align: right;\">\n",
              "      <th></th>\n",
              "      <th>number of adults</th>\n",
              "      <th>number of children</th>\n",
              "      <th>number of weekend nights</th>\n",
              "      <th>number of week nights</th>\n",
              "      <th>car parking space</th>\n",
              "      <th>lead time</th>\n",
              "      <th>repeated</th>\n",
              "      <th>P-C</th>\n",
              "      <th>P-not-C</th>\n",
              "      <th>average price</th>\n",
              "      <th>special requests</th>\n",
              "    </tr>\n",
              "  </thead>\n",
              "  <tbody>\n",
              "    <tr>\n",
              "      <th>count</th>\n",
              "      <td>36285.000000</td>\n",
              "      <td>36285.000000</td>\n",
              "      <td>36285.000000</td>\n",
              "      <td>36285.000000</td>\n",
              "      <td>36285.000000</td>\n",
              "      <td>36285.000000</td>\n",
              "      <td>36285.000000</td>\n",
              "      <td>36285.000000</td>\n",
              "      <td>36285.000000</td>\n",
              "      <td>36285.000000</td>\n",
              "      <td>36285.000000</td>\n",
              "    </tr>\n",
              "    <tr>\n",
              "      <th>mean</th>\n",
              "      <td>1.844839</td>\n",
              "      <td>0.105360</td>\n",
              "      <td>0.810693</td>\n",
              "      <td>2.204602</td>\n",
              "      <td>0.030977</td>\n",
              "      <td>85.239851</td>\n",
              "      <td>0.025630</td>\n",
              "      <td>0.023343</td>\n",
              "      <td>0.153369</td>\n",
              "      <td>103.421636</td>\n",
              "      <td>0.619733</td>\n",
              "    </tr>\n",
              "    <tr>\n",
              "      <th>std</th>\n",
              "      <td>0.518813</td>\n",
              "      <td>0.402704</td>\n",
              "      <td>0.870590</td>\n",
              "      <td>1.410946</td>\n",
              "      <td>0.173258</td>\n",
              "      <td>85.938796</td>\n",
              "      <td>0.158032</td>\n",
              "      <td>0.368281</td>\n",
              "      <td>1.753931</td>\n",
              "      <td>35.086469</td>\n",
              "      <td>0.786262</td>\n",
              "    </tr>\n",
              "    <tr>\n",
              "      <th>min</th>\n",
              "      <td>0.000000</td>\n",
              "      <td>0.000000</td>\n",
              "      <td>0.000000</td>\n",
              "      <td>0.000000</td>\n",
              "      <td>0.000000</td>\n",
              "      <td>0.000000</td>\n",
              "      <td>0.000000</td>\n",
              "      <td>0.000000</td>\n",
              "      <td>0.000000</td>\n",
              "      <td>0.000000</td>\n",
              "      <td>0.000000</td>\n",
              "    </tr>\n",
              "    <tr>\n",
              "      <th>25%</th>\n",
              "      <td>2.000000</td>\n",
              "      <td>0.000000</td>\n",
              "      <td>0.000000</td>\n",
              "      <td>1.000000</td>\n",
              "      <td>0.000000</td>\n",
              "      <td>17.000000</td>\n",
              "      <td>0.000000</td>\n",
              "      <td>0.000000</td>\n",
              "      <td>0.000000</td>\n",
              "      <td>80.300000</td>\n",
              "      <td>0.000000</td>\n",
              "    </tr>\n",
              "    <tr>\n",
              "      <th>50%</th>\n",
              "      <td>2.000000</td>\n",
              "      <td>0.000000</td>\n",
              "      <td>1.000000</td>\n",
              "      <td>2.000000</td>\n",
              "      <td>0.000000</td>\n",
              "      <td>57.000000</td>\n",
              "      <td>0.000000</td>\n",
              "      <td>0.000000</td>\n",
              "      <td>0.000000</td>\n",
              "      <td>99.450000</td>\n",
              "      <td>0.000000</td>\n",
              "    </tr>\n",
              "    <tr>\n",
              "      <th>75%</th>\n",
              "      <td>2.000000</td>\n",
              "      <td>0.000000</td>\n",
              "      <td>2.000000</td>\n",
              "      <td>3.000000</td>\n",
              "      <td>0.000000</td>\n",
              "      <td>126.000000</td>\n",
              "      <td>0.000000</td>\n",
              "      <td>0.000000</td>\n",
              "      <td>0.000000</td>\n",
              "      <td>120.000000</td>\n",
              "      <td>1.000000</td>\n",
              "    </tr>\n",
              "    <tr>\n",
              "      <th>max</th>\n",
              "      <td>4.000000</td>\n",
              "      <td>10.000000</td>\n",
              "      <td>7.000000</td>\n",
              "      <td>17.000000</td>\n",
              "      <td>1.000000</td>\n",
              "      <td>443.000000</td>\n",
              "      <td>1.000000</td>\n",
              "      <td>13.000000</td>\n",
              "      <td>58.000000</td>\n",
              "      <td>540.000000</td>\n",
              "      <td>5.000000</td>\n",
              "    </tr>\n",
              "  </tbody>\n",
              "</table>\n",
              "</div>\n",
              "    <div class=\"colab-df-buttons\">\n",
              "\n",
              "  <div class=\"colab-df-container\">\n",
              "    <button class=\"colab-df-convert\" onclick=\"convertToInteractive('df-d1246c90-aa25-460e-8678-f4f386c41dc8')\"\n",
              "            title=\"Convert this dataframe to an interactive table.\"\n",
              "            style=\"display:none;\">\n",
              "\n",
              "  <svg xmlns=\"http://www.w3.org/2000/svg\" height=\"24px\" viewBox=\"0 -960 960 960\">\n",
              "    <path d=\"M120-120v-720h720v720H120Zm60-500h600v-160H180v160Zm220 220h160v-160H400v160Zm0 220h160v-160H400v160ZM180-400h160v-160H180v160Zm440 0h160v-160H620v160ZM180-180h160v-160H180v160Zm440 0h160v-160H620v160Z\"/>\n",
              "  </svg>\n",
              "    </button>\n",
              "\n",
              "  <style>\n",
              "    .colab-df-container {\n",
              "      display:flex;\n",
              "      gap: 12px;\n",
              "    }\n",
              "\n",
              "    .colab-df-convert {\n",
              "      background-color: #E8F0FE;\n",
              "      border: none;\n",
              "      border-radius: 50%;\n",
              "      cursor: pointer;\n",
              "      display: none;\n",
              "      fill: #1967D2;\n",
              "      height: 32px;\n",
              "      padding: 0 0 0 0;\n",
              "      width: 32px;\n",
              "    }\n",
              "\n",
              "    .colab-df-convert:hover {\n",
              "      background-color: #E2EBFA;\n",
              "      box-shadow: 0px 1px 2px rgba(60, 64, 67, 0.3), 0px 1px 3px 1px rgba(60, 64, 67, 0.15);\n",
              "      fill: #174EA6;\n",
              "    }\n",
              "\n",
              "    .colab-df-buttons div {\n",
              "      margin-bottom: 4px;\n",
              "    }\n",
              "\n",
              "    [theme=dark] .colab-df-convert {\n",
              "      background-color: #3B4455;\n",
              "      fill: #D2E3FC;\n",
              "    }\n",
              "\n",
              "    [theme=dark] .colab-df-convert:hover {\n",
              "      background-color: #434B5C;\n",
              "      box-shadow: 0px 1px 3px 1px rgba(0, 0, 0, 0.15);\n",
              "      filter: drop-shadow(0px 1px 2px rgba(0, 0, 0, 0.3));\n",
              "      fill: #FFFFFF;\n",
              "    }\n",
              "  </style>\n",
              "\n",
              "    <script>\n",
              "      const buttonEl =\n",
              "        document.querySelector('#df-d1246c90-aa25-460e-8678-f4f386c41dc8 button.colab-df-convert');\n",
              "      buttonEl.style.display =\n",
              "        google.colab.kernel.accessAllowed ? 'block' : 'none';\n",
              "\n",
              "      async function convertToInteractive(key) {\n",
              "        const element = document.querySelector('#df-d1246c90-aa25-460e-8678-f4f386c41dc8');\n",
              "        const dataTable =\n",
              "          await google.colab.kernel.invokeFunction('convertToInteractive',\n",
              "                                                    [key], {});\n",
              "        if (!dataTable) return;\n",
              "\n",
              "        const docLinkHtml = 'Like what you see? Visit the ' +\n",
              "          '<a target=\"_blank\" href=https://colab.research.google.com/notebooks/data_table.ipynb>data table notebook</a>'\n",
              "          + ' to learn more about interactive tables.';\n",
              "        element.innerHTML = '';\n",
              "        dataTable['output_type'] = 'display_data';\n",
              "        await google.colab.output.renderOutput(dataTable, element);\n",
              "        const docLink = document.createElement('div');\n",
              "        docLink.innerHTML = docLinkHtml;\n",
              "        element.appendChild(docLink);\n",
              "      }\n",
              "    </script>\n",
              "  </div>\n",
              "\n",
              "\n",
              "<div id=\"df-65da4eb4-ea13-4a1b-b51e-908bb7a85830\">\n",
              "  <button class=\"colab-df-quickchart\" onclick=\"quickchart('df-65da4eb4-ea13-4a1b-b51e-908bb7a85830')\"\n",
              "            title=\"Suggest charts\"\n",
              "            style=\"display:none;\">\n",
              "\n",
              "<svg xmlns=\"http://www.w3.org/2000/svg\" height=\"24px\"viewBox=\"0 0 24 24\"\n",
              "     width=\"24px\">\n",
              "    <g>\n",
              "        <path d=\"M19 3H5c-1.1 0-2 .9-2 2v14c0 1.1.9 2 2 2h14c1.1 0 2-.9 2-2V5c0-1.1-.9-2-2-2zM9 17H7v-7h2v7zm4 0h-2V7h2v10zm4 0h-2v-4h2v4z\"/>\n",
              "    </g>\n",
              "</svg>\n",
              "  </button>\n",
              "\n",
              "<style>\n",
              "  .colab-df-quickchart {\n",
              "      --bg-color: #E8F0FE;\n",
              "      --fill-color: #1967D2;\n",
              "      --hover-bg-color: #E2EBFA;\n",
              "      --hover-fill-color: #174EA6;\n",
              "      --disabled-fill-color: #AAA;\n",
              "      --disabled-bg-color: #DDD;\n",
              "  }\n",
              "\n",
              "  [theme=dark] .colab-df-quickchart {\n",
              "      --bg-color: #3B4455;\n",
              "      --fill-color: #D2E3FC;\n",
              "      --hover-bg-color: #434B5C;\n",
              "      --hover-fill-color: #FFFFFF;\n",
              "      --disabled-bg-color: #3B4455;\n",
              "      --disabled-fill-color: #666;\n",
              "  }\n",
              "\n",
              "  .colab-df-quickchart {\n",
              "    background-color: var(--bg-color);\n",
              "    border: none;\n",
              "    border-radius: 50%;\n",
              "    cursor: pointer;\n",
              "    display: none;\n",
              "    fill: var(--fill-color);\n",
              "    height: 32px;\n",
              "    padding: 0;\n",
              "    width: 32px;\n",
              "  }\n",
              "\n",
              "  .colab-df-quickchart:hover {\n",
              "    background-color: var(--hover-bg-color);\n",
              "    box-shadow: 0 1px 2px rgba(60, 64, 67, 0.3), 0 1px 3px 1px rgba(60, 64, 67, 0.15);\n",
              "    fill: var(--button-hover-fill-color);\n",
              "  }\n",
              "\n",
              "  .colab-df-quickchart-complete:disabled,\n",
              "  .colab-df-quickchart-complete:disabled:hover {\n",
              "    background-color: var(--disabled-bg-color);\n",
              "    fill: var(--disabled-fill-color);\n",
              "    box-shadow: none;\n",
              "  }\n",
              "\n",
              "  .colab-df-spinner {\n",
              "    border: 2px solid var(--fill-color);\n",
              "    border-color: transparent;\n",
              "    border-bottom-color: var(--fill-color);\n",
              "    animation:\n",
              "      spin 1s steps(1) infinite;\n",
              "  }\n",
              "\n",
              "  @keyframes spin {\n",
              "    0% {\n",
              "      border-color: transparent;\n",
              "      border-bottom-color: var(--fill-color);\n",
              "      border-left-color: var(--fill-color);\n",
              "    }\n",
              "    20% {\n",
              "      border-color: transparent;\n",
              "      border-left-color: var(--fill-color);\n",
              "      border-top-color: var(--fill-color);\n",
              "    }\n",
              "    30% {\n",
              "      border-color: transparent;\n",
              "      border-left-color: var(--fill-color);\n",
              "      border-top-color: var(--fill-color);\n",
              "      border-right-color: var(--fill-color);\n",
              "    }\n",
              "    40% {\n",
              "      border-color: transparent;\n",
              "      border-right-color: var(--fill-color);\n",
              "      border-top-color: var(--fill-color);\n",
              "    }\n",
              "    60% {\n",
              "      border-color: transparent;\n",
              "      border-right-color: var(--fill-color);\n",
              "    }\n",
              "    80% {\n",
              "      border-color: transparent;\n",
              "      border-right-color: var(--fill-color);\n",
              "      border-bottom-color: var(--fill-color);\n",
              "    }\n",
              "    90% {\n",
              "      border-color: transparent;\n",
              "      border-bottom-color: var(--fill-color);\n",
              "    }\n",
              "  }\n",
              "</style>\n",
              "\n",
              "  <script>\n",
              "    async function quickchart(key) {\n",
              "      const quickchartButtonEl =\n",
              "        document.querySelector('#' + key + ' button');\n",
              "      quickchartButtonEl.disabled = true;  // To prevent multiple clicks.\n",
              "      quickchartButtonEl.classList.add('colab-df-spinner');\n",
              "      try {\n",
              "        const charts = await google.colab.kernel.invokeFunction(\n",
              "            'suggestCharts', [key], {});\n",
              "      } catch (error) {\n",
              "        console.error('Error during call to suggestCharts:', error);\n",
              "      }\n",
              "      quickchartButtonEl.classList.remove('colab-df-spinner');\n",
              "      quickchartButtonEl.classList.add('colab-df-quickchart-complete');\n",
              "    }\n",
              "    (() => {\n",
              "      let quickchartButtonEl =\n",
              "        document.querySelector('#df-65da4eb4-ea13-4a1b-b51e-908bb7a85830 button');\n",
              "      quickchartButtonEl.style.display =\n",
              "        google.colab.kernel.accessAllowed ? 'block' : 'none';\n",
              "    })();\n",
              "  </script>\n",
              "</div>\n",
              "    </div>\n",
              "  </div>\n"
            ],
            "application/vnd.google.colaboratory.intrinsic+json": {
              "type": "dataframe",
              "summary": "{\n  \"name\": \"book_data\",\n  \"rows\": 8,\n  \"fields\": [\n    {\n      \"column\": \"number of adults\",\n      \"properties\": {\n        \"dtype\": \"number\",\n        \"std\": 12828.060373701368,\n        \"min\": 0.0,\n        \"max\": 36285.0,\n        \"num_unique_values\": 6,\n        \"samples\": [\n          36285.0,\n          1.844839465343806,\n          4.0\n        ],\n        \"semantic_type\": \"\",\n        \"description\": \"\"\n      }\n    },\n    {\n      \"column\": \"number of children\",\n      \"properties\": {\n        \"dtype\": \"number\",\n        \"std\": 12828.154510201834,\n        \"min\": 0.0,\n        \"max\": 36285.0,\n        \"num_unique_values\": 5,\n        \"samples\": [\n          0.10536034173901061,\n          10.0,\n          0.40270443013611823\n        ],\n        \"semantic_type\": \"\",\n        \"description\": \"\"\n      }\n    },\n    {\n      \"column\": \"number of weekend nights\",\n      \"properties\": {\n        \"dtype\": \"number\",\n        \"std\": 12828.094983777954,\n        \"min\": 0.0,\n        \"max\": 36285.0,\n        \"num_unique_values\": 7,\n        \"samples\": [\n          36285.0,\n          0.8106931238803914,\n          2.0\n        ],\n        \"semantic_type\": \"\",\n        \"description\": \"\"\n      }\n    },\n    {\n      \"column\": \"number of week nights\",\n      \"properties\": {\n        \"dtype\": \"number\",\n        \"std\": 12827.341651361196,\n        \"min\": 0.0,\n        \"max\": 36285.0,\n        \"num_unique_values\": 8,\n        \"samples\": [\n          2.204602452804189,\n          2.0,\n          36285.0\n        ],\n        \"semantic_type\": \"\",\n        \"description\": \"\"\n      }\n    },\n    {\n      \"column\": \"car parking space\",\n      \"properties\": {\n        \"dtype\": \"number\",\n        \"std\": 12828.623959225575,\n        \"min\": 0.0,\n        \"max\": 36285.0,\n        \"num_unique_values\": 5,\n        \"samples\": [\n          0.030976987735979053,\n          1.0,\n          0.17325773072920778\n        ],\n        \"semantic_type\": \"\",\n        \"description\": \"\"\n      }\n    },\n    {\n      \"column\": \"lead time\",\n      \"properties\": {\n        \"dtype\": \"number\",\n        \"std\": 12788.320046456138,\n        \"min\": 0.0,\n        \"max\": 36285.0,\n        \"num_unique_values\": 8,\n        \"samples\": [\n          85.2398511781728,\n          57.0,\n          36285.0\n        ],\n        \"semantic_type\": \"\",\n        \"description\": \"\"\n      }\n    },\n    {\n      \"column\": \"repeated\",\n      \"properties\": {\n        \"dtype\": \"number\",\n        \"std\": 12828.624998279412,\n        \"min\": 0.0,\n        \"max\": 36285.0,\n        \"num_unique_values\": 5,\n        \"samples\": [\n          0.025630425795783382,\n          1.0,\n          0.1580322604662894\n        ],\n        \"semantic_type\": \"\",\n        \"description\": \"\"\n      }\n    },\n    {\n      \"column\": \"P-C\",\n      \"properties\": {\n        \"dtype\": \"number\",\n        \"std\": 12828.009197656893,\n        \"min\": 0.0,\n        \"max\": 36285.0,\n        \"num_unique_values\": 5,\n        \"samples\": [\n          0.02334297919250379,\n          13.0,\n          0.36828089163343825\n        ],\n        \"semantic_type\": \"\",\n        \"description\": \"\"\n      }\n    },\n    {\n      \"column\": \"P-not-C\",\n      \"properties\": {\n        \"dtype\": \"number\",\n        \"std\": 12825.674898807534,\n        \"min\": 0.0,\n        \"max\": 36285.0,\n        \"num_unique_values\": 5,\n        \"samples\": [\n          0.15336916081025218,\n          58.0,\n          1.753930815508909\n        ],\n        \"semantic_type\": \"\",\n        \"description\": \"\"\n      }\n    },\n    {\n      \"column\": \"average price\",\n      \"properties\": {\n        \"dtype\": \"number\",\n        \"std\": 12780.379437187356,\n        \"min\": 0.0,\n        \"max\": 36285.0,\n        \"num_unique_values\": 8,\n        \"samples\": [\n          103.4216359377153,\n          99.45,\n          36285.0\n        ],\n        \"semantic_type\": \"\",\n        \"description\": \"\"\n      }\n    },\n    {\n      \"column\": \"special requests\",\n      \"properties\": {\n        \"dtype\": \"number\",\n        \"std\": 12828.310825166927,\n        \"min\": 0.0,\n        \"max\": 36285.0,\n        \"num_unique_values\": 6,\n        \"samples\": [\n          36285.0,\n          0.6197326719029902,\n          5.0\n        ],\n        \"semantic_type\": \"\",\n        \"description\": \"\"\n      }\n    }\n  ]\n}"
            }
          },
          "metadata": {},
          "execution_count": 34
        }
      ]
    },
    {
      "cell_type": "code",
      "source": [
        "nulls = book_data.isnull().sum()\n",
        "print(nulls)"
      ],
      "metadata": {
        "colab": {
          "base_uri": "https://localhost:8080/"
        },
        "id": "k3g7ELeT8mrs",
        "outputId": "14037dcd-e091-42f2-c082-9ea8d75c9344"
      },
      "execution_count": 35,
      "outputs": [
        {
          "output_type": "stream",
          "name": "stdout",
          "text": [
            "Booking_ID                  0\n",
            "number of adults            0\n",
            "number of children          0\n",
            "number of weekend nights    0\n",
            "number of week nights       0\n",
            "type of meal                0\n",
            "car parking space           0\n",
            "room type                   0\n",
            "lead time                   0\n",
            "market segment type         0\n",
            "repeated                    0\n",
            "P-C                         0\n",
            "P-not-C                     0\n",
            "average price               0\n",
            "special requests            0\n",
            "date of reservation         0\n",
            "booking status              0\n",
            "dtype: int64\n"
          ]
        }
      ]
    },
    {
      "cell_type": "code",
      "source": [
        "import seaborn as sns\n",
        "avg_price_outliers = sns.boxplot(book_data['average price'])"
      ],
      "metadata": {
        "colab": {
          "base_uri": "https://localhost:8080/",
          "height": 411
        },
        "id": "pE8SKH-V8u0w",
        "outputId": "012a991d-bb64-47cc-97d4-9c6f9eb32df9"
      },
      "execution_count": 36,
      "outputs": [
        {
          "output_type": "display_data",
          "data": {
            "text/plain": [
              "<Figure size 640x480 with 1 Axes>"
            ],
            "image/png": "[encoded data removed]"
          },
          "metadata": {}
        }
      ]
    },
    {
      "cell_type": "code",
      "source": [
        "book_data = book_data[book_data['average price']<200]"
      ],
      "metadata": {
        "id": "IIvFntFZ9Vzj"
      },
      "execution_count": 37,
      "outputs": []
    },
    {
      "cell_type": "code",
      "source": [
        "lead_time_outliers = sns.boxplot(book_data['lead time'])"
      ],
      "metadata": {
        "colab": {
          "base_uri": "https://localhost:8080/",
          "height": 411
        },
        "id": "rL1E8uqj9hsf",
        "outputId": "65349f6c-1be4-4a01-844a-222789da06f2"
      },
      "execution_count": 38,
      "outputs": [
        {
          "output_type": "display_data",
          "data": {
            "text/plain": [
              "<Figure size 640x480 with 1 Axes>"
            ],
            "image/png": "[encoded data removed]"
          },
          "metadata": {}
        }
      ]
    },
    {
      "cell_type": "code",
      "source": [
        "book_data = book_data[book_data['lead time']<300]"
      ],
      "metadata": {
        "id": "jaFaTb2F9_C4"
      },
      "execution_count": 39,
      "outputs": []
    },
    {
      "cell_type": "code",
      "source": [
        "book_data.info()"
      ],
      "metadata": {
        "colab": {
          "base_uri": "https://localhost:8080/"
        },
        "id": "b4bBUBX--TJk",
        "outputId": "0a14cce6-583b-419d-a24c-29d9a3d17509"
      },
      "execution_count": 40,
      "outputs": [
        {
          "output_type": "stream",
          "name": "stdout",
          "text": [
            "<class 'pandas.core.frame.DataFrame'>\n",
            "Int64Index: 34643 entries, 0 to 36284\n",
            "Data columns (total 17 columns):\n",
            " #   Column                    Non-Null Count  Dtype  \n",
            "---  ------                    --------------  -----  \n",
            " 0   Booking_ID                34643 non-null  object \n",
            " 1   number of adults          34643 non-null  int64  \n",
            " 2   number of children        34643 non-null  int64  \n",
            " 3   number of weekend nights  34643 non-null  int64  \n",
            " 4   number of week nights     34643 non-null  int64  \n",
            " 5   type of meal              34643 non-null  object \n",
            " 6   car parking space         34643 non-null  int64  \n",
            " 7   room type                 34643 non-null  object \n",
            " 8   lead time                 34643 non-null  int64  \n",
            " 9   market segment type       34643 non-null  object \n",
            " 10  repeated                  34643 non-null  int64  \n",
            " 11  P-C                       34643 non-null  int64  \n",
            " 12  P-not-C                   34643 non-null  int64  \n",
            " 13  average price             34643 non-null  float64\n",
            " 14  special requests          34643 non-null  int64  \n",
            " 15  date of reservation       34643 non-null  object \n",
            " 16  booking status            34643 non-null  object \n",
            "dtypes: float64(1), int64(10), object(6)\n",
            "memory usage: 4.8+ MB\n"
          ]
        }
      ]
    },
    {
      "cell_type": "code",
      "source": [
        "# Encoding\n",
        "from sklearn.preprocessing import LabelEncoder\n",
        "\n",
        "lbl_enc = LabelEncoder()\n",
        "book_data['type of meal'] = lbl_enc.fit_transform(book_data['type of meal'])\n",
        "book_data['room type'] = lbl_enc.fit_transform(book_data['room type'])\n",
        "book_data['market segment type'] = lbl_enc.fit_transform(book_data['market segment type'])\n",
        "book_data['booking status'] = lbl_enc.fit_transform(book_data['booking status'])\n",
        "\n"
      ],
      "metadata": {
        "colab": {
          "base_uri": "https://localhost:8080/"
        },
        "id": "dXf1Mgw4-Ej2",
        "outputId": "d206c482-b311-4e1d-be19-424f87f20c43"
      },
      "execution_count": 41,
      "outputs": [
        {
          "output_type": "stream",
          "name": "stderr",
          "text": [
            "<ipython-input-41-23dec8f067d1>:5: SettingWithCopyWarning: \n",
            "A value is trying to be set on a copy of a slice from a DataFrame.\n",
            "Try using .loc[row_indexer,col_indexer] = value instead\n",
            "\n",
            "See the caveats in the documentation: https://pandas.pydata.org/pandas-docs/stable/user_guide/indexing.html#returning-a-view-versus-a-copy\n",
            "  book_data['type of meal'] = lbl_enc.fit_transform(book_data['type of meal'])\n",
            "<ipython-input-41-23dec8f067d1>:6: SettingWithCopyWarning: \n",
            "A value is trying to be set on a copy of a slice from a DataFrame.\n",
            "Try using .loc[row_indexer,col_indexer] = value instead\n",
            "\n",
            "See the caveats in the documentation: https://pandas.pydata.org/pandas-docs/stable/user_guide/indexing.html#returning-a-view-versus-a-copy\n",
            "  book_data['room type'] = lbl_enc.fit_transform(book_data['room type'])\n",
            "<ipython-input-41-23dec8f067d1>:7: SettingWithCopyWarning: \n",
            "A value is trying to be set on a copy of a slice from a DataFrame.\n",
            "Try using .loc[row_indexer,col_indexer] = value instead\n",
            "\n",
            "See the caveats in the documentation: https://pandas.pydata.org/pandas-docs/stable/user_guide/indexing.html#returning-a-view-versus-a-copy\n",
            "  book_data['market segment type'] = lbl_enc.fit_transform(book_data['market segment type'])\n",
            "<ipython-input-41-23dec8f067d1>:8: SettingWithCopyWarning: \n",
            "A value is trying to be set on a copy of a slice from a DataFrame.\n",
            "Try using .loc[row_indexer,col_indexer] = value instead\n",
            "\n",
            "See the caveats in the documentation: https://pandas.pydata.org/pandas-docs/stable/user_guide/indexing.html#returning-a-view-versus-a-copy\n",
            "  book_data['booking status'] = lbl_enc.fit_transform(book_data['booking status'])\n"
          ]
        }
      ]
    },
    {
      "cell_type": "code",
      "source": [
        "import matplotlib.pyplot as plt\n",
        "plt.scatter(book_data['number of adults'],book_data['average price'])"
      ],
      "metadata": {
        "colab": {
          "base_uri": "https://localhost:8080/",
          "height": 448
        },
        "id": "dDIXG5_V_a1W",
        "outputId": "7731da60-5f97-44e7-ba42-70bb76f2c443"
      },
      "execution_count": 42,
      "outputs": [
        {
          "output_type": "execute_result",
          "data": {
            "text/plain": [
              "<matplotlib.collections.PathCollection at 0x7ad1c3348520>"
            ]
          },
          "metadata": {},
          "execution_count": 42
        },
        {
          "output_type": "display_data",
          "data": {
            "text/plain": [
              "<Figure size 640x480 with 1 Axes>"
            ],
            "image/png": "[encoded data removed]"
          },
          "metadata": {}
        }
      ]
    },
    {
      "cell_type": "code",
      "source": [
        "plt.scatter(book_data['number of children'],book_data['average price'])"
      ],
      "metadata": {
        "colab": {
          "base_uri": "https://localhost:8080/",
          "height": 448
        },
        "id": "gJ5fBynHAK_N",
        "outputId": "ee1adb05-98a2-4f16-c1a2-711d680207a0"
      },
      "execution_count": 43,
      "outputs": [
        {
          "output_type": "execute_result",
          "data": {
            "text/plain": [
              "<matplotlib.collections.PathCollection at 0x7ad1d48a6f80>"
            ]
          },
          "metadata": {},
          "execution_count": 43
        },
        {
          "output_type": "display_data",
          "data": {
            "text/plain": [
              "<Figure size 640x480 with 1 Axes>"
            ],
            "image/png": "[encoded data removed]"
          },
          "metadata": {}
        }
      ]
    },
    {
      "cell_type": "code",
      "source": [],
      "metadata": {
        "id": "9BR_SUBDARzK"
      },
      "execution_count": 43,
      "outputs": []
    },
    {
      "cell_type": "code",
      "source": [
        "plt.scatter(book_data['number of weekend nights'],book_data['average price'])"
      ],
      "metadata": {
        "colab": {
          "base_uri": "https://localhost:8080/",
          "height": 448
        },
        "id": "_KDQQJdsALhl",
        "outputId": "b2b69c2f-fbaa-4db9-8fb7-38f7e94a6c3a"
      },
      "execution_count": 44,
      "outputs": [
        {
          "output_type": "execute_result",
          "data": {
            "text/plain": [
              "<matplotlib.collections.PathCollection at 0x7ad1c3317220>"
            ]
          },
          "metadata": {},
          "execution_count": 44
        },
        {
          "output_type": "display_data",
          "data": {
            "text/plain": [
              "<Figure size 640x480 with 1 Axes>"
            ],
            "image/png": "[encoded data removed]"
          },
          "metadata": {}
        }
      ]
    },
    {
      "cell_type": "code",
      "source": [
        "plt.scatter(book_data['number of week nights'],book_data['average price'])"
      ],
      "metadata": {
        "colab": {
          "base_uri": "https://localhost:8080/",
          "height": 448
        },
        "id": "-8TvIdPzAQAE",
        "outputId": "70e1ecb2-d9d0-4d68-a751-02e903e12443"
      },
      "execution_count": 45,
      "outputs": [
        {
          "output_type": "execute_result",
          "data": {
            "text/plain": [
              "<matplotlib.collections.PathCollection at 0x7ad1d47c1990>"
            ]
          },
          "metadata": {},
          "execution_count": 45
        },
        {
          "output_type": "display_data",
          "data": {
            "text/plain": [
              "<Figure size 640x480 with 1 Axes>"
            ],
            "image/png": "[encoded data removed]"
          },
          "metadata": {}
        }
      ]
    },
    {
      "cell_type": "code",
      "source": [
        "# Removing unnecessary columns (Feature selection)\n",
        "book_data = book_data.drop(columns=['date of reservation','Booking_ID'],axis=1)"
      ],
      "metadata": {
        "id": "3k5Idbuo-6Fb"
      },
      "execution_count": 46,
      "outputs": []
    },
    {
      "cell_type": "code",
      "source": [
        "# Removing duplicates\n",
        "duplicates = book_data.duplicated(keep=False)\n",
        "book_data['dup_bool'] = duplicates\n",
        "book_data[book_data['dup_bool'] == True].count()"
      ],
      "metadata": {
        "colab": {
          "base_uri": "https://localhost:8080/"
        },
        "id": "nijtnk2Z_LMG",
        "outputId": "7327082d-95b3-4806-f9d0-ec0557f27643"
      },
      "execution_count": 47,
      "outputs": [
        {
          "output_type": "execute_result",
          "data": {
            "text/plain": [
              "number of adults            13037\n",
              "number of children          13037\n",
              "number of weekend nights    13037\n",
              "number of week nights       13037\n",
              "type of meal                13037\n",
              "car parking space           13037\n",
              "room type                   13037\n",
              "lead time                   13037\n",
              "market segment type         13037\n",
              "repeated                    13037\n",
              "P-C                         13037\n",
              "P-not-C                     13037\n",
              "average price               13037\n",
              "special requests            13037\n",
              "booking status              13037\n",
              "dup_bool                    13037\n",
              "dtype: int64"
            ]
          },
          "metadata": {},
          "execution_count": 47
        }
      ]
    },
    {
      "cell_type": "code",
      "source": [
        "book_data = book_data[book_data['dup_bool'] == False]\n",
        "book_data = book_data.drop('dup_bool',axis=1)\n",
        "book_data.count()"
      ],
      "metadata": {
        "colab": {
          "base_uri": "https://localhost:8080/"
        },
        "id": "TuQnfKXeAhBI",
        "outputId": "81246efa-a9b3-48b6-de37-a3df534505fb"
      },
      "execution_count": 48,
      "outputs": [
        {
          "output_type": "execute_result",
          "data": {
            "text/plain": [
              "number of adults            21606\n",
              "number of children          21606\n",
              "number of weekend nights    21606\n",
              "number of week nights       21606\n",
              "type of meal                21606\n",
              "car parking space           21606\n",
              "room type                   21606\n",
              "lead time                   21606\n",
              "market segment type         21606\n",
              "repeated                    21606\n",
              "P-C                         21606\n",
              "P-not-C                     21606\n",
              "average price               21606\n",
              "special requests            21606\n",
              "booking status              21606\n",
              "dtype: int64"
            ]
          },
          "metadata": {},
          "execution_count": 48
        }
      ]
    },
    {
      "cell_type": "code",
      "source": [
        "from sklearn.model_selection import train_test_split\n",
        "\n",
        "X = book_data.drop('booking status',axis=1)\n",
        "y = book_data['booking status']\n",
        "X_train,X_test,y_train,y_test = train_test_split(X,y,test_size=0.3,random_state=30)\n"
      ],
      "metadata": {
        "id": "vRcoCfIMA6KM"
      },
      "execution_count": 49,
      "outputs": []
    },
    {
      "cell_type": "code",
      "source": [
        "from sklearn.linear_model import LogisticRegression\n",
        "\n",
        "regressor = LogisticRegression(random_state=0,max_iter=10000)\n",
        "\n",
        "trained_model = regressor.fit(X_train,y_train)\n",
        "\n",
        "y_pred = trained_model.predict(X_test)\n"
      ],
      "metadata": {
        "id": "w2YaI4z5BV4C"
      },
      "execution_count": 60,
      "outputs": []
    },
    {
      "cell_type": "code",
      "source": [
        "from sklearn.metrics import accuracy_score,precision_score, recall_score, f1_score\n",
        "\n",
        "accuracy = accuracy_score(y_test,y_pred)\n",
        "precision = precision_score(y_test,y_pred)\n",
        "recall = recall_score(y_test,y_pred)\n",
        "\n",
        "print('Accuracy score: ',round(accuracy*100,2),'%')\n",
        "print('Precision score: ',round(precision*100,2),'%')\n",
        "print('Recall score: ',round(recall*100,2))"
      ],
      "metadata": {
        "colab": {
          "base_uri": "https://localhost:8080/"
        },
        "id": "RoX4kEWuCLIP",
        "outputId": "073d5b4d-a0f4-400c-fc91-d8b68384764e"
      },
      "execution_count": 61,
      "outputs": [
        {
          "output_type": "stream",
          "name": "stdout",
          "text": [
            "Accuracy score:  80.31 %\n",
            "Precision score:  82.93 %\n",
            "Recall score:  91.58\n"
          ]
        }
      ]
    },
    {
      "cell_type": "code",
      "source": [],
      "metadata": {
        "id": "Sv77yljhDpOV"
      },
      "execution_count": null,
      "outputs": []
    }
  ]
}